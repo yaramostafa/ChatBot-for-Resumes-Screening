{
  "nbformat": 4,
  "nbformat_minor": 0,
  "metadata": {
    "colab": {
      "provenance": [],
      "gpuType": "T4"
    },
    "kernelspec": {
      "name": "python3",
      "display_name": "Python 3"
    },
    "language_info": {
      "name": "python"
    },
    "accelerator": "GPU"
  },
  "cells": [
    {
      "cell_type": "code",
      "source": [
        "!pip install pinecone"
      ],
      "metadata": {
        "colab": {
          "base_uri": "https://localhost:8080/"
        },
        "id": "fnbQsuMajgY_",
        "outputId": "2821bfdf-dc38-40d3-99cb-5d107e03a4f4"
      },
      "execution_count": 1,
      "outputs": [
        {
          "output_type": "stream",
          "name": "stdout",
          "text": [
            "Requirement already satisfied: pinecone in /usr/local/lib/python3.11/dist-packages (5.4.2)\n",
            "Requirement already satisfied: certifi>=2019.11.17 in /usr/local/lib/python3.11/dist-packages (from pinecone) (2024.12.14)\n",
            "Requirement already satisfied: pinecone-plugin-inference<4.0.0,>=2.0.0 in /usr/local/lib/python3.11/dist-packages (from pinecone) (3.1.0)\n",
            "Requirement already satisfied: pinecone-plugin-interface<0.0.8,>=0.0.7 in /usr/local/lib/python3.11/dist-packages (from pinecone) (0.0.7)\n",
            "Requirement already satisfied: python-dateutil>=2.5.3 in /usr/local/lib/python3.11/dist-packages (from pinecone) (2.8.2)\n",
            "Requirement already satisfied: tqdm>=4.64.1 in /usr/local/lib/python3.11/dist-packages (from pinecone) (4.67.1)\n",
            "Requirement already satisfied: typing-extensions>=3.7.4 in /usr/local/lib/python3.11/dist-packages (from pinecone) (4.12.2)\n",
            "Requirement already satisfied: urllib3>=1.26.0 in /usr/local/lib/python3.11/dist-packages (from pinecone) (2.3.0)\n",
            "Requirement already satisfied: six>=1.5 in /usr/local/lib/python3.11/dist-packages (from python-dateutil>=2.5.3->pinecone) (1.17.0)\n"
          ]
        }
      ]
    },
    {
      "cell_type": "code",
      "source": [
        "!pip install cohere"
      ],
      "metadata": {
        "colab": {
          "base_uri": "https://localhost:8080/"
        },
        "id": "y7hTGAq-EOi8",
        "outputId": "26815d55-7731-432d-e303-ac40d1e59164"
      },
      "execution_count": 2,
      "outputs": [
        {
          "output_type": "stream",
          "name": "stdout",
          "text": [
            "Requirement already satisfied: cohere in /usr/local/lib/python3.11/dist-packages (5.13.11)\n",
            "Requirement already satisfied: fastavro<2.0.0,>=1.9.4 in /usr/local/lib/python3.11/dist-packages (from cohere) (1.10.0)\n",
            "Requirement already satisfied: httpx>=0.21.2 in /usr/local/lib/python3.11/dist-packages (from cohere) (0.28.1)\n",
            "Requirement already satisfied: httpx-sse==0.4.0 in /usr/local/lib/python3.11/dist-packages (from cohere) (0.4.0)\n",
            "Requirement already satisfied: pydantic>=1.9.2 in /usr/local/lib/python3.11/dist-packages (from cohere) (2.10.6)\n",
            "Requirement already satisfied: pydantic-core<3.0.0,>=2.18.2 in /usr/local/lib/python3.11/dist-packages (from cohere) (2.27.2)\n",
            "Requirement already satisfied: requests<3.0.0,>=2.0.0 in /usr/local/lib/python3.11/dist-packages (from cohere) (2.32.3)\n",
            "Requirement already satisfied: tokenizers<1,>=0.15 in /usr/local/lib/python3.11/dist-packages (from cohere) (0.21.0)\n",
            "Requirement already satisfied: types-requests<3.0.0,>=2.0.0 in /usr/local/lib/python3.11/dist-packages (from cohere) (2.32.0.20241016)\n",
            "Requirement already satisfied: typing_extensions>=4.0.0 in /usr/local/lib/python3.11/dist-packages (from cohere) (4.12.2)\n",
            "Requirement already satisfied: anyio in /usr/local/lib/python3.11/dist-packages (from httpx>=0.21.2->cohere) (3.7.1)\n",
            "Requirement already satisfied: certifi in /usr/local/lib/python3.11/dist-packages (from httpx>=0.21.2->cohere) (2024.12.14)\n",
            "Requirement already satisfied: httpcore==1.* in /usr/local/lib/python3.11/dist-packages (from httpx>=0.21.2->cohere) (1.0.7)\n",
            "Requirement already satisfied: idna in /usr/local/lib/python3.11/dist-packages (from httpx>=0.21.2->cohere) (3.10)\n",
            "Requirement already satisfied: h11<0.15,>=0.13 in /usr/local/lib/python3.11/dist-packages (from httpcore==1.*->httpx>=0.21.2->cohere) (0.14.0)\n",
            "Requirement already satisfied: annotated-types>=0.6.0 in /usr/local/lib/python3.11/dist-packages (from pydantic>=1.9.2->cohere) (0.7.0)\n",
            "Requirement already satisfied: charset-normalizer<4,>=2 in /usr/local/lib/python3.11/dist-packages (from requests<3.0.0,>=2.0.0->cohere) (3.4.1)\n",
            "Requirement already satisfied: urllib3<3,>=1.21.1 in /usr/local/lib/python3.11/dist-packages (from requests<3.0.0,>=2.0.0->cohere) (2.3.0)\n",
            "Requirement already satisfied: huggingface-hub<1.0,>=0.16.4 in /usr/local/lib/python3.11/dist-packages (from tokenizers<1,>=0.15->cohere) (0.27.1)\n",
            "Requirement already satisfied: filelock in /usr/local/lib/python3.11/dist-packages (from huggingface-hub<1.0,>=0.16.4->tokenizers<1,>=0.15->cohere) (3.17.0)\n",
            "Requirement already satisfied: fsspec>=2023.5.0 in /usr/local/lib/python3.11/dist-packages (from huggingface-hub<1.0,>=0.16.4->tokenizers<1,>=0.15->cohere) (2024.10.0)\n",
            "Requirement already satisfied: packaging>=20.9 in /usr/local/lib/python3.11/dist-packages (from huggingface-hub<1.0,>=0.16.4->tokenizers<1,>=0.15->cohere) (24.2)\n",
            "Requirement already satisfied: pyyaml>=5.1 in /usr/local/lib/python3.11/dist-packages (from huggingface-hub<1.0,>=0.16.4->tokenizers<1,>=0.15->cohere) (6.0.2)\n",
            "Requirement already satisfied: tqdm>=4.42.1 in /usr/local/lib/python3.11/dist-packages (from huggingface-hub<1.0,>=0.16.4->tokenizers<1,>=0.15->cohere) (4.67.1)\n",
            "Requirement already satisfied: sniffio>=1.1 in /usr/local/lib/python3.11/dist-packages (from anyio->httpx>=0.21.2->cohere) (1.3.1)\n"
          ]
        }
      ]
    },
    {
      "cell_type": "code",
      "execution_count": 3,
      "metadata": {
        "id": "j6r7bIqUjM4L"
      },
      "outputs": [],
      "source": [
        "from pinecone import Pinecone, ServerlessSpec\n",
        "# import openai\n",
        "import cohere\n",
        "import os"
      ]
    },
    {
      "cell_type": "code",
      "source": [
        "#Index Creation\n",
        "pc = Pinecone(\n",
        "    api_key=\"pcsk_44R4w_9mXN3CD1j1kqzSjUzzwYkDJePke4GioyChxpYWmK48Ro369U4vGmEKd5rtpFkLi\"\n",
        ")\n",
        "index_name = \"cv-chunks\"\n",
        "embedding_dim = 4096\n",
        "\n",
        "if index_name not in pc.list_indexes().names():\n",
        "    pc.create_index(\n",
        "        name=index_name,\n",
        "        dimension=embedding_dim,\n",
        "        metric=\"cosine\",  # or \"cosine\", depending on your similarity metric preference\n",
        "        spec=ServerlessSpec(\n",
        "            cloud=\"aws\",       # Change this to your cloud provider if necessary\n",
        "            region=\"us-east-1\" # Change to your region\n",
        "        )\n",
        "    )\n",
        "\n",
        "# Connect to the index\n",
        "index = pc.Index(index_name)\n",
        "\n",
        "# Initialize OpenAI for embeddings\n",
        "co = cohere.Client(\"m5XzuXbgRfMj9OqycoyofSbrOr2USUewghDXMLaa\")"
      ],
      "metadata": {
        "id": "XJzRQy8Ajk2-"
      },
      "execution_count": 4,
      "outputs": []
    },
    {
      "cell_type": "code",
      "source": [
        "import time\n",
        "def get_embedding(text: str, model=\"text-embedding-ada-002\") -> list:\n",
        "    \"\"\"\n",
        "    Function to embed CVs chunks\n",
        "    :param text: CVs chunks\n",
        "    :param model: Embedding model\n",
        "    :return: Chunk Embeddings\n",
        "    \"\"\"\n",
        "    while True:\n",
        "        try:\n",
        "            response = co.embed(texts=[text], model=model)\n",
        "            return response.embeddings[0]\n",
        "        except cohere.TooManyRequestsError:\n",
        "            print(\"⚠️ Rate limit reached! Waiting before retrying...\")\n",
        "            time.sleep(60)  # Wait 60 seconds before retrying"
      ],
      "metadata": {
        "id": "ZATtDEQL3tIS"
      },
      "execution_count": 5,
      "outputs": []
    },
    {
      "cell_type": "code",
      "source": [
        "import json\n",
        "def uploading_vector_db(file_path,model):\n",
        "  \"\"\"\n",
        "  Function to upload embed the CVs chunks and upload it to a vector db(Pinecone) (RUN TO UPLOAD DATA ONLY)\n",
        "  :param file_path: File containing CVs chunks\n",
        "  :param model: Embedding model\n",
        "  :return: None\n",
        "  \"\"\"\n",
        "  with open(file_path, \"r\", encoding=\"utf-8\") as f:\n",
        "      cv_chunks = json.load(f)\n",
        "\n",
        "  vectors = []\n",
        "  for i, chunk in enumerate(cv_chunks):\n",
        "      embedding = get_embedding(chunk[\"content\"],model=model)\n",
        "      index.upsert(vectors=[(\n",
        "            chunk[\"chunk_id\"],\n",
        "            embedding,\n",
        "            {\n",
        "                \"original_file\": chunk[\"original_file\"],\n",
        "                \"content\": chunk[\"content\"]\n",
        "            }\n",
        "        )])\n",
        "      if (i + 1) % 90 == 0:\n",
        "        print(f\"⏸️ upload {i+1} embeddings. Pausing for 60 seconds...\")\n",
        "        time.sleep(60)\n",
        "\n",
        "\n",
        "  print(\"Upserted CV chunk embeddings with metadata to Pinecone.\")"
      ],
      "metadata": {
        "id": "YjI3gITK6Ygr"
      },
      "execution_count": 6,
      "outputs": []
    },
    {
      "cell_type": "code",
      "source": [
        "CV_file_path = \"/content/all_chunks.json\"\n",
        "uploading_vector_db(file_path=CV_file_path,model=\"embed-english-v2.0\")"
      ],
      "metadata": {
        "id": "_WmiJsIx9gXF",
        "colab": {
          "base_uri": "https://localhost:8080/"
        },
        "outputId": "34d62a4e-c439-4c42-9505-b5ff6b7482d1"
      },
      "execution_count": 7,
      "outputs": [
        {
          "output_type": "stream",
          "name": "stdout",
          "text": [
            "⏸️ upload 90 embeddings. Pausing for 60 seconds...\n",
            "⏸️ upload 180 embeddings. Pausing for 60 seconds...\n",
            "⏸️ upload 270 embeddings. Pausing for 60 seconds...\n",
            "⏸️ upload 360 embeddings. Pausing for 60 seconds...\n",
            "Upserted CV chunk embeddings with metadata to Pinecone.\n"
          ]
        }
      ]
    }
  ]
}