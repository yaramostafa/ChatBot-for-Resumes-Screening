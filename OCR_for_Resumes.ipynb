{
  "nbformat": 4,
  "nbformat_minor": 0,
  "metadata": {
    "colab": {
      "provenance": []
    },
    "kernelspec": {
      "name": "python3",
      "display_name": "Python 3"
    },
    "language_info": {
      "name": "python"
    }
  },
  "cells": [
    {
      "cell_type": "code",
      "execution_count": null,
      "metadata": {
        "colab": {
          "base_uri": "https://localhost:8080/"
        },
        "id": "iU0c9dunme3K",
        "outputId": "7638c896-d061-4b68-b096-13a2aa8184db"
      },
      "outputs": [
        {
          "output_type": "stream",
          "name": "stdout",
          "text": [
            "Collecting pdf2image\n",
            "  Downloading pdf2image-1.17.0-py3-none-any.whl.metadata (6.2 kB)\n",
            "Requirement already satisfied: pillow in /usr/local/lib/python3.11/dist-packages (from pdf2image) (11.1.0)\n",
            "Downloading pdf2image-1.17.0-py3-none-any.whl (11 kB)\n",
            "Installing collected packages: pdf2image\n",
            "Successfully installed pdf2image-1.17.0\n",
            "Collecting python-docx\n",
            "  Downloading python_docx-1.1.2-py3-none-any.whl.metadata (2.0 kB)\n",
            "Requirement already satisfied: lxml>=3.1.0 in /usr/local/lib/python3.11/dist-packages (from python-docx) (5.3.0)\n",
            "Requirement already satisfied: typing-extensions>=4.9.0 in /usr/local/lib/python3.11/dist-packages (from python-docx) (4.12.2)\n",
            "Downloading python_docx-1.1.2-py3-none-any.whl (244 kB)\n",
            "\u001b[2K   \u001b[90m━━━━━━━━━━━━━━━━━━━━━━━━━━━━━━━━━━━━━━━━\u001b[0m \u001b[32m244.3/244.3 kB\u001b[0m \u001b[31m4.3 MB/s\u001b[0m eta \u001b[36m0:00:00\u001b[0m\n",
            "\u001b[?25hInstalling collected packages: python-docx\n",
            "Successfully installed python-docx-1.1.2\n",
            "Collecting pytesseract\n",
            "  Downloading pytesseract-0.3.13-py3-none-any.whl.metadata (11 kB)\n",
            "Requirement already satisfied: packaging>=21.3 in /usr/local/lib/python3.11/dist-packages (from pytesseract) (24.2)\n",
            "Requirement already satisfied: Pillow>=8.0.0 in /usr/local/lib/python3.11/dist-packages (from pytesseract) (11.1.0)\n",
            "Downloading pytesseract-0.3.13-py3-none-any.whl (14 kB)\n",
            "Installing collected packages: pytesseract\n",
            "Successfully installed pytesseract-0.3.13\n",
            "Reading package lists... Done\n",
            "Building dependency tree... Done\n",
            "Reading state information... Done\n",
            "The following additional packages will be installed:\n",
            "  tesseract-ocr-eng tesseract-ocr-osd\n",
            "The following NEW packages will be installed:\n",
            "  tesseract-ocr tesseract-ocr-eng tesseract-ocr-osd\n",
            "0 upgraded, 3 newly installed, 0 to remove and 49 not upgraded.\n",
            "Need to get 4,816 kB of archives.\n",
            "After this operation, 15.6 MB of additional disk space will be used.\n",
            "Get:1 http://archive.ubuntu.com/ubuntu jammy/universe amd64 tesseract-ocr-eng all 1:4.00~git30-7274cfa-1.1 [1,591 kB]\n",
            "Get:2 http://archive.ubuntu.com/ubuntu jammy/universe amd64 tesseract-ocr-osd all 1:4.00~git30-7274cfa-1.1 [2,990 kB]\n",
            "Get:3 http://archive.ubuntu.com/ubuntu jammy/universe amd64 tesseract-ocr amd64 4.1.1-2.1build1 [236 kB]\n",
            "Fetched 4,816 kB in 1s (9,317 kB/s)\n",
            "debconf: unable to initialize frontend: Dialog\n",
            "debconf: (No usable dialog-like program is installed, so the dialog based frontend cannot be used. at /usr/share/perl5/Debconf/FrontEnd/Dialog.pm line 78, <> line 3.)\n",
            "debconf: falling back to frontend: Readline\n",
            "debconf: unable to initialize frontend: Readline\n",
            "debconf: (This frontend requires a controlling tty.)\n",
            "debconf: falling back to frontend: Teletype\n",
            "dpkg-preconfigure: unable to re-open stdin: \n",
            "Selecting previously unselected package tesseract-ocr-eng.\n",
            "(Reading database ... 124788 files and directories currently installed.)\n",
            "Preparing to unpack .../tesseract-ocr-eng_1%3a4.00~git30-7274cfa-1.1_all.deb ...\n",
            "Unpacking tesseract-ocr-eng (1:4.00~git30-7274cfa-1.1) ...\n",
            "Selecting previously unselected package tesseract-ocr-osd.\n",
            "Preparing to unpack .../tesseract-ocr-osd_1%3a4.00~git30-7274cfa-1.1_all.deb ...\n",
            "Unpacking tesseract-ocr-osd (1:4.00~git30-7274cfa-1.1) ...\n",
            "Selecting previously unselected package tesseract-ocr.\n",
            "Preparing to unpack .../tesseract-ocr_4.1.1-2.1build1_amd64.deb ...\n",
            "Unpacking tesseract-ocr (4.1.1-2.1build1) ...\n",
            "Setting up tesseract-ocr-eng (1:4.00~git30-7274cfa-1.1) ...\n",
            "Setting up tesseract-ocr-osd (1:4.00~git30-7274cfa-1.1) ...\n",
            "Setting up tesseract-ocr (4.1.1-2.1build1) ...\n",
            "Processing triggers for man-db (2.10.2-1) ...\n",
            "Reading package lists... Done\n",
            "Building dependency tree... Done\n",
            "Reading state information... Done\n",
            "The following NEW packages will be installed:\n",
            "  poppler-utils\n",
            "0 upgraded, 1 newly installed, 0 to remove and 49 not upgraded.\n",
            "Need to get 186 kB of archives.\n",
            "After this operation, 696 kB of additional disk space will be used.\n",
            "Get:1 http://archive.ubuntu.com/ubuntu jammy-updates/main amd64 poppler-utils amd64 22.02.0-2ubuntu0.6 [186 kB]\n",
            "Fetched 186 kB in 0s (899 kB/s)\n",
            "debconf: unable to initialize frontend: Dialog\n",
            "debconf: (No usable dialog-like program is installed, so the dialog based frontend cannot be used. at /usr/share/perl5/Debconf/FrontEnd/Dialog.pm line 78, <> line 1.)\n",
            "debconf: falling back to frontend: Readline\n",
            "debconf: unable to initialize frontend: Readline\n",
            "debconf: (This frontend requires a controlling tty.)\n",
            "debconf: falling back to frontend: Teletype\n",
            "dpkg-preconfigure: unable to re-open stdin: \n",
            "Selecting previously unselected package poppler-utils.\n",
            "(Reading database ... 124835 files and directories currently installed.)\n",
            "Preparing to unpack .../poppler-utils_22.02.0-2ubuntu0.6_amd64.deb ...\n",
            "Unpacking poppler-utils (22.02.0-2ubuntu0.6) ...\n",
            "Setting up poppler-utils (22.02.0-2ubuntu0.6) ...\n",
            "Processing triggers for man-db (2.10.2-1) ...\n"
          ]
        }
      ],
      "source": [
        "# Required packages\n",
        "!pip install pdf2image\n",
        "!pip install python-docx\n",
        "!pip install pytesseract\n",
        "!sudo apt-get install tesseract-ocr\n",
        "!sudo apt-get install poppler-utils"
      ]
    },
    {
      "cell_type": "code",
      "source": [
        "import os\n",
        "import pytesseract\n",
        "from pdf2image import convert_from_path\n",
        "from docx import Document\n",
        "from PIL import Image\n",
        "import pandas as pd\n",
        "import logging\n",
        "from tqdm import tqdm"
      ],
      "metadata": {
        "id": "UzIUwgp1mygv"
      },
      "execution_count": null,
      "outputs": []
    },
    {
      "cell_type": "code",
      "source": [
        "from google.colab import drive\n",
        "drive.mount('/content/drive')"
      ],
      "metadata": {
        "colab": {
          "base_uri": "https://localhost:8080/"
        },
        "id": "f4EtESdBnN1y",
        "outputId": "d7f124b8-8254-405e-e884-ffce86ffbb01"
      },
      "execution_count": null,
      "outputs": [
        {
          "output_type": "stream",
          "name": "stdout",
          "text": [
            "Mounted at /content/drive\n"
          ]
        }
      ]
    },
    {
      "cell_type": "code",
      "source": [
        "class CVTextExtractor:\n",
        "    def __init__(self, input_folder, output_folder):\n",
        "        self.input_folder = input_folder\n",
        "        self.output_folder = output_folder\n",
        "\n",
        "        # Create output folder if it doesn't exist\n",
        "        if not os.path.exists(output_folder):\n",
        "            os.makedirs(output_folder)\n",
        "\n",
        "        # Setup logging\n",
        "        logging.basicConfig(\n",
        "            filename=os.path.join(output_folder, 'extraction_log.txt'),\n",
        "            level=logging.INFO,\n",
        "            format='%(asctime)s - %(levelname)s - %(message)s'\n",
        "        )\n",
        "\n",
        "    def extract_from_pdf(self, pdf_path):\n",
        "        try:\n",
        "            images = convert_from_path(pdf_path)\n",
        "            text = \"\"\n",
        "\n",
        "            for image in images:\n",
        "                text += pytesseract.image_to_string(image)\n",
        "\n",
        "            return text.strip()\n",
        "        except Exception as e:\n",
        "            logging.error(f\"Error processing PDF {pdf_path}: {str(e)}\")\n",
        "            return None\n",
        "\n",
        "    def extract_from_docx(self, docx_path):\n",
        "        try:\n",
        "            doc = Document(docx_path)\n",
        "            text = \"\"\n",
        "\n",
        "            for paragraph in doc.paragraphs:\n",
        "                text += paragraph.text + \"\\n\"\n",
        "\n",
        "            return text.strip()\n",
        "        except Exception as e:\n",
        "            logging.error(f\"Error processing DOCX {docx_path}: {str(e)}\")\n",
        "            return None\n",
        "\n",
        "    def clean_text(self, text):\n",
        "        if text:\n",
        "            # Remove extra whitespace\n",
        "            text = ' '.join(text.split())\n",
        "            # Remove unnecessary line breaks\n",
        "            text = text.replace('\\n\\n', '\\n')\n",
        "            return text\n",
        "        return \"\"\n",
        "\n",
        "    def process_document(self, file_path):\n",
        "        file_extension = os.path.splitext(file_path)[1].lower()\n",
        "\n",
        "        if file_extension == '.pdf':\n",
        "            return self.extract_from_pdf(file_path)\n",
        "        elif file_extension in ['.docx', '.doc']:\n",
        "            return self.extract_from_docx(file_path)\n",
        "        else:\n",
        "            logging.warning(f\"Unsupported file format: {file_path}\")\n",
        "            return None\n",
        "\n",
        "    def process_folder(self):\n",
        "        results = []\n",
        "\n",
        "        # Get list of files\n",
        "        files = [f for f in os.listdir(self.input_folder)\n",
        "                if f.lower().endswith(('.pdf', '.docx', '.doc'))]\n",
        "\n",
        "        print(f\"Found {len(files)} files to process\")\n",
        "\n",
        "        # Process each file\n",
        "        for file_name in tqdm(files):\n",
        "            file_path = os.path.join(self.input_folder, file_name)\n",
        "\n",
        "            logging.info(f\"Processing {file_name}\")\n",
        "\n",
        "            try:\n",
        "                # Extract text\n",
        "                extracted_text = self.process_document(file_path)\n",
        "\n",
        "                if extracted_text:\n",
        "                    # Clean text\n",
        "                    cleaned_text = self.clean_text(extracted_text)\n",
        "\n",
        "                    # Save individual text file\n",
        "                    output_file = os.path.join(\n",
        "                        self.output_folder,\n",
        "                        f\"{os.path.splitext(file_name)[0]}.txt\"\n",
        "                    )\n",
        "\n",
        "                    with open(output_file, 'w', encoding='utf-8') as f:\n",
        "                        f.write(cleaned_text)\n",
        "\n",
        "                    results.append({\n",
        "                        'file_name': file_name,\n",
        "                        'status': 'success',\n",
        "                        'text': cleaned_text\n",
        "                    })\n",
        "\n",
        "                    logging.info(f\"Successfully processed {file_name}\")\n",
        "                else:\n",
        "                    results.append({\n",
        "                        'file_name': file_name,\n",
        "                        'status': 'failed',\n",
        "                        'text': ''\n",
        "                    })\n",
        "                    logging.error(f\"Failed to extract text from {file_name}\")\n",
        "\n",
        "            except Exception as e:\n",
        "                logging.error(f\"Error processing {file_name}: {str(e)}\")\n",
        "                results.append({\n",
        "                    'file_name': file_name,\n",
        "                    'status': 'error',\n",
        "                    'text': str(e)\n",
        "                })\n",
        "\n",
        "        # Create summary DataFrame\n",
        "        df = pd.DataFrame(results)\n",
        "        df.to_csv(os.path.join(self.output_folder, 'extraction_summary.csv'), index=False)\n",
        "\n",
        "        return results"
      ],
      "metadata": {
        "id": "8kzUYbmbm-x2"
      },
      "execution_count": null,
      "outputs": []
    },
    {
      "cell_type": "code",
      "source": [
        "input_folder = '/content/drive/MyDrive/CVs'  # Adjust path as needed\n",
        "output_folder = '/content/drive/MyDrive/CVs/output'  # Adjust path as needed\n",
        "\n",
        "# Create extractor instance\n",
        "extractor = CVTextExtractor(input_folder, output_folder)\n",
        "\n",
        "# Process all documents\n",
        "results = extractor.process_folder()\n",
        "\n",
        "# Print summary\n",
        "success_count = sum(1 for r in results if r['status'] == 'success')\n",
        "print(f\"\\nProcessing complete!\")\n",
        "print(f\"Successfully processed: {success_count}/{len(results)} files\")\n",
        "print(f\"Results saved to: {output_folder}\")"
      ],
      "metadata": {
        "colab": {
          "base_uri": "https://localhost:8080/"
        },
        "id": "ERM88Acim-0l",
        "outputId": "4897144d-ce84-44b1-c52d-4bec2827b24c"
      },
      "execution_count": null,
      "outputs": [
        {
          "output_type": "stream",
          "name": "stdout",
          "text": [
            "Found 25 files to process\n"
          ]
        },
        {
          "output_type": "stream",
          "name": "stderr",
          "text": [
            " 28%|██▊       | 7/25 [01:39<05:37, 18.73s/it]ERROR:root:Failed to extract text from SW_ML_EsraaSayed.docx\n",
            " 48%|████▊     | 12/25 [02:54<04:07, 19.02s/it]ERROR:root:Failed to extract text from SW_MLEngineer_MoatazMansour.docx\n",
            " 68%|██████▊   | 17/25 [03:36<01:24, 10.61s/it]ERROR:root:Failed to extract text from DataScientist_MahmoudYoussef.docx\n",
            "100%|██████████| 25/25 [05:04<00:00, 12.18s/it]"
          ]
        },
        {
          "output_type": "stream",
          "name": "stdout",
          "text": [
            "\n",
            "Processing complete!\n",
            "Successfully processed: 22/25 files\n",
            "Results saved to: /content/drive/MyDrive/CVs/output\n"
          ]
        },
        {
          "output_type": "stream",
          "name": "stderr",
          "text": [
            "\n"
          ]
        }
      ]
    }
  ]
}